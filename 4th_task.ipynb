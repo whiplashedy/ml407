{
 "cells": [
  {
   "cell_type": "markdown",
   "metadata": {},
   "source": [
    "### 4 Practical design of a learning algorithm - 30%"
   ]
  },
  {
   "cell_type": "code",
   "execution_count": 12,
   "metadata": {},
   "outputs": [],
   "source": [
    "from sklearn import datasets\n",
    "import numpy as np\n",
    "from numpy import*\n",
    "\n",
    "digits = datasets.load_digits()"
   ]
  },
  {
   "cell_type": "markdown",
   "metadata": {},
   "source": [
    "### Linear Regression Algorithm"
   ]
  },
  {
   "cell_type": "code",
   "execution_count": 17,
   "metadata": {},
   "outputs": [],
   "source": [
    "def lin(x,y):\n",
    "    y = np.array(y)\n",
    "    X = []\n",
    "    for el in x:\n",
    "        temp = [1]\n",
    "        for j in range(len(el)):\n",
    "            temp.append(el[j])\n",
    "        X.append(list(temp))\n",
    "    A = np.array(X)\n",
    "    X_result = np.linalg.pinv(A)\n",
    "    return np.dot(X_result,y)"
   ]
  },
  {
   "cell_type": "markdown",
   "metadata": {},
   "source": [
    "### Logistic Regression Algorithm taken from LFD"
   ]
  },
  {
   "cell_type": "code",
   "execution_count": 18,
   "metadata": {},
   "outputs": [],
   "source": [
    "def sigmoid(scores):\n",
    "    return 1 / (1 + np.exp(-scores))\n",
    "\n",
    "def predict(X, w):\n",
    "    a =np.matmul(X, w)\n",
    "    return np.round(sigmoid(a)) #since our output consists only 0's and 1's, we need to round them instead of finding sign\n",
    "\n",
    "\n",
    "\n",
    "def log(X, y, learning_rate = 0.01, T=2000):\n",
    "    w = np.zeros(shape = (X.shape[1],1))\n",
    "    m = len(y)\n",
    "    for i in range(T):\n",
    "        a = np.matmul(X,w)\n",
    "        b = np.matmul(X.T,sigmoid(a) - y)\n",
    "        w = w - (learning_rate/m) * (b)\n",
    "    return w"
   ]
  },
  {
   "cell_type": "markdown",
   "metadata": {},
   "source": [
    "### Function which calculates the accuracy of weights given test set"
   ]
  },
  {
   "cell_type": "code",
   "execution_count": 19,
   "metadata": {},
   "outputs": [],
   "source": [
    "def accuracy(x,y,w):\n",
    "    counter = 0\n",
    "    for i in range(len(x)):\n",
    "        result = 0\n",
    "        for j in range(len(x[i])):\n",
    "            result += w[j+1]*x[i][j]\n",
    "        if int(result + int(w[0])) == y[i]:\n",
    "            counter += 1\n",
    "    return (1-(counter)/len(x))*100"
   ]
  },
  {
   "cell_type": "markdown",
   "metadata": {},
   "source": [
    "#### Function which divides the data set to k - 1 parts and tests each of them on remained test set and prints the mean error"
   ]
  },
  {
   "cell_type": "code",
   "execution_count": 20,
   "metadata": {},
   "outputs": [
    {
     "ename": "TypeError",
     "evalue": "cannot concatenate 'str' and 'int' objects",
     "output_type": "error",
     "traceback": [
      "\u001b[0;31m---------------------------------------------------------------------------\u001b[0m",
      "\u001b[0;31mTypeError\u001b[0m                                 Traceback (most recent call last)",
      "\u001b[0;32m<ipython-input-20-c51734e4266d>\u001b[0m in \u001b[0;36m<module>\u001b[0;34m()\u001b[0m\n\u001b[1;32m     31\u001b[0m \u001b[0mY\u001b[0m \u001b[0;34m=\u001b[0m \u001b[0mdigits\u001b[0m\u001b[0;34m.\u001b[0m\u001b[0mtarget\u001b[0m\u001b[0;34m\u001b[0m\u001b[0m\n\u001b[1;32m     32\u001b[0m \u001b[0;34m\u001b[0m\u001b[0m\n\u001b[0;32m---> 33\u001b[0;31m \u001b[0mk_folding\u001b[0m\u001b[0;34m(\u001b[0m\u001b[0mX\u001b[0m\u001b[0;34m,\u001b[0m\u001b[0mY\u001b[0m\u001b[0;34m,\u001b[0m\u001b[0;36m5\u001b[0m\u001b[0;34m)\u001b[0m\u001b[0;34m\u001b[0m\u001b[0m\n\u001b[0m\u001b[1;32m     34\u001b[0m \u001b[0mk_folding\u001b[0m\u001b[0;34m(\u001b[0m\u001b[0mX\u001b[0m\u001b[0;34m,\u001b[0m\u001b[0mY\u001b[0m\u001b[0;34m,\u001b[0m\u001b[0;36m10\u001b[0m\u001b[0;34m)\u001b[0m\u001b[0;34m\u001b[0m\u001b[0m\n\u001b[1;32m     35\u001b[0m \u001b[0mk_folding\u001b[0m\u001b[0;34m(\u001b[0m\u001b[0mX\u001b[0m\u001b[0;34m,\u001b[0m\u001b[0mY\u001b[0m\u001b[0;34m,\u001b[0m\u001b[0;36m20\u001b[0m\u001b[0;34m)\u001b[0m\u001b[0;34m\u001b[0m\u001b[0m\n",
      "\u001b[0;32m<ipython-input-20-c51734e4266d>\u001b[0m in \u001b[0;36mk_folding\u001b[0;34m(X, Y, k)\u001b[0m\n\u001b[1;32m     25\u001b[0m     \u001b[0merrors_lin\u001b[0m \u001b[0;34m=\u001b[0m \u001b[0mnp\u001b[0m\u001b[0;34m.\u001b[0m\u001b[0marray\u001b[0m\u001b[0;34m(\u001b[0m\u001b[0merrors_lin\u001b[0m\u001b[0;34m)\u001b[0m\u001b[0;34m\u001b[0m\u001b[0m\n\u001b[1;32m     26\u001b[0m     \u001b[0merrors_log\u001b[0m \u001b[0;34m=\u001b[0m \u001b[0mnp\u001b[0m\u001b[0;34m.\u001b[0m\u001b[0marray\u001b[0m\u001b[0;34m(\u001b[0m\u001b[0merrors_log\u001b[0m\u001b[0;34m)\u001b[0m\u001b[0;34m\u001b[0m\u001b[0m\n\u001b[0;32m---> 27\u001b[0;31m     \u001b[0;32mprint\u001b[0m\u001b[0;34m(\u001b[0m\u001b[0;34m\"Linear regression algorithm mean error with \"\u001b[0m\u001b[0;34m+\u001b[0m\u001b[0mk\u001b[0m\u001b[0;34m+\u001b[0m\u001b[0;34m\"holds:\"\u001b[0m\u001b[0;34m,\u001b[0m\u001b[0merrors_lin\u001b[0m\u001b[0;34m.\u001b[0m\u001b[0mmean\u001b[0m\u001b[0;34m(\u001b[0m\u001b[0;34m)\u001b[0m\u001b[0;34m)\u001b[0m\u001b[0;34m\u001b[0m\u001b[0m\n\u001b[0m\u001b[1;32m     28\u001b[0m     \u001b[0;32mprint\u001b[0m\u001b[0;34m(\u001b[0m\u001b[0;34m\"Logistic regression algorithm mean error with \"\u001b[0m\u001b[0;34m+\u001b[0m\u001b[0mk\u001b[0m\u001b[0;34m+\u001b[0m\u001b[0;34m\"holds:\"\u001b[0m\u001b[0;34m,\u001b[0m\u001b[0merrors_log\u001b[0m\u001b[0;34m.\u001b[0m\u001b[0mmean\u001b[0m\u001b[0;34m(\u001b[0m\u001b[0;34m)\u001b[0m\u001b[0;34m)\u001b[0m\u001b[0;34m\u001b[0m\u001b[0m\n\u001b[1;32m     29\u001b[0m \u001b[0;34m\u001b[0m\u001b[0m\n",
      "\u001b[0;31mTypeError\u001b[0m: cannot concatenate 'str' and 'int' objects"
     ]
    }
   ],
   "source": [
    "def k_folding(X,Y,k):\n",
    "    X_split = [None]*(k-1)\n",
    "    Y_split = [None]*(k-1)\n",
    "    f = 0\n",
    "    t = int(len(X)/k)\n",
    "    X_test = []\n",
    "    Y_test = []\n",
    "    for i in range(k):\n",
    "        if i == k - 1:\n",
    "            X_test = X[f:int(len(X)+1)]\n",
    "            Y_test = Y[f:int(len(Y)+1)]\n",
    "            break\n",
    "        X_split[i] = X[f:t]\n",
    "        Y_split[i] = Y[f:t]\n",
    "        f = t\n",
    "        t += int(len(X)/k)\n",
    "    \n",
    "    errors_lin = []\n",
    "    errors_log = []\n",
    "    for i in range(len(X_split)):\n",
    "        w_lin = lin(X_split[i],Y_split[i])\n",
    "        errors_lin.append(accuracy(X_test,Y_test,w_lin))\n",
    "        w_log = log(X_split[i],Y_split[i])\n",
    "        errors_log.append(accuracy(X_test,Y_test,w_log[0]))\n",
    "    errors_lin = np.array(errors_lin)\n",
    "    errors_log = np.array(errors_log)\n",
    "    print(\"Linear regression algorithm mean error with \"+k+\"holds:\",errors_lin.mean())\n",
    "    print(\"Logistic regression algorithm mean error with \"+k+\"holds:\",errors_log.mean())\n",
    "    \n",
    "X = digits.data\n",
    "Y = digits.target\n",
    "\n",
    "k_folding(X,Y,5)\n",
    "k_folding(X,Y,10)\n",
    "k_folding(X,Y,20)"
   ]
  },
  {
   "cell_type": "markdown",
   "metadata": {},
   "source": [
    "Conclusion:\n",
    "Respective errors for 5, 10 and 20 folds"
   ]
  }
 ],
 "metadata": {
  "kernelspec": {
   "display_name": "Python 3",
   "language": "python",
   "name": "python3"
  },
  "language_info": {
   "codemirror_mode": {
    "name": "ipython",
    "version": 2
   },
   "file_extension": ".py",
   "mimetype": "text/x-python",
   "name": "python",
   "nbconvert_exporter": "python",
   "pygments_lexer": "ipython2",
   "version": "2.7.17"
  }
 },
 "nbformat": 4,
 "nbformat_minor": 2
}
