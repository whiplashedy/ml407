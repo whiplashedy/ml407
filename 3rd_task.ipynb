{
 "cells": [
  {
   "cell_type": "markdown",
   "metadata": {},
   "source": [
    "# 3 Implement SVM using a convex optimization package 20%"
   ]
  },
  {
   "cell_type": "code",
   "execution_count": 80,
   "metadata": {},
   "outputs": [],
   "source": [
    "import numpy as np\n",
    "import cvxopt\n",
    "import numpy\n",
    "from math import *\n",
    "import random as rand\n",
    "import matplotlib.pyplot as plt\n",
    "from cvxopt import solvers,matrix"
   ]
  },
  {
   "cell_type": "markdown",
   "metadata": {},
   "source": [
    "### Primal Slack QP Algorithm taken from LFD, chapter 8"
   ]
  },
  {
   "cell_type": "code",
   "execution_count": 81,
   "metadata": {},
   "outputs": [],
   "source": [
    "def primal(x,y):\n",
    "    Q = [[0.0,0.0,0.0],[0.0,1.0,0.0],[0.0,0.0,1.0]]\n",
    "    A = []\n",
    "    for i in range(len(x)):\n",
    "        a = [y[i]]\n",
    "        b = [x[i][0]*y[i],x[i][1]*y[i]]\n",
    "        A.append(a+b)\n",
    "    p = [1.0,1.0,1.0]\n",
    "    c = [0.0]*len(x)\n",
    "    Q = matrix(Q)\n",
    "    p = matrix(p)\n",
    "    A = matrix(A)\n",
    "    c = matrix(c)\n",
    "    A = A.trans()\n",
    "    sol = solvers.qp(Q,p,A,c)\n",
    "    return sol "
   ]
  },
  {
   "cell_type": "markdown",
   "metadata": {},
   "source": [
    "### Function for checking whether it is this class or that class"
   ]
  },
  {
   "cell_type": "code",
   "execution_count": 82,
   "metadata": {},
   "outputs": [],
   "source": [
    "def iris(w,x):\n",
    "    if w[1]*x[0] + w[2]*x[1] + w[0] > 0:\n",
    "        return 1\n",
    "    else:\n",
    "        return -1"
   ]
  },
  {
   "cell_type": "markdown",
   "metadata": {},
   "source": [
    "### Extracting data from file and filling in required lists"
   ]
  },
  {
   "cell_type": "code",
   "execution_count": 83,
   "metadata": {},
   "outputs": [],
   "source": [
    "f = open(\"iris.txt\",\"r+\")\n",
    "data = f.readlines()\n",
    "x = []\n",
    "y = []\n",
    "x_train = []\n",
    "y_train = []\n",
    "x_test = []\n",
    "y_test = []\n",
    "\n"
   ]
  },
  {
   "cell_type": "markdown",
   "metadata": {},
   "source": [
    "### Extracting only 2 features of Iris"
   ]
  },
  {
   "cell_type": "code",
   "execution_count": 84,
   "metadata": {},
   "outputs": [],
   "source": [
    "for line in data:\n",
    "    L = line.split(\",\")\n",
    "    if L[4] == \"setosa\\n\":\n",
    "        x.append([float(L[0]),float(L[1])])\n",
    "        y.append(1)\n",
    "    elif L[4] == \"versicolor\\n\":\n",
    "        x.append([float(L[0]),float(L[1])])\n",
    "        y.append(-1)\n",
    "        \n"
   ]
  },
  {
   "cell_type": "markdown",
   "metadata": {},
   "source": [
    "### 80% of present data is for training and 20% is for testing"
   ]
  },
  {
   "cell_type": "code",
   "execution_count": 85,
   "metadata": {},
   "outputs": [
    {
     "name": "stdout",
     "output_type": "stream",
     "text": [
      "     pcost       dcost       gap    pres   dres\n",
      " 0: -9.9602e-01 -2.2348e+00  1e+02  1e+01  3e+01\n",
      " 1: -2.6111e+00 -1.9770e+01  2e+01  2e+00  6e+00\n",
      " 2: -3.2201e+00 -7.2026e+00  4e+00  4e-01  1e+00\n",
      " 3: -3.6742e+00 -5.1700e+00  2e+00  1e-01  3e-01\n",
      " 4: -3.6073e+00 -4.3230e+00  7e-01  3e-02  1e-01\n",
      " 5: -3.6220e+00 -3.6317e+00  1e-02  3e-04  8e-04\n",
      " 6: -3.6222e+00 -3.6223e+00  1e-04  3e-06  8e-06\n",
      " 7: -3.6222e+00 -3.6222e+00  1e-06  3e-08  8e-08\n",
      "Optimal solution found.\n",
      "0.11528498611578583\n"
     ]
    }
   ],
   "source": [
    "for i in range(100):\n",
    "    if i < 40 or i >= 50 and i < 90:\n",
    "        x_train.append(x[i])\n",
    "        y_train.append(y[i])\n",
    "    else:\n",
    "        x_test.append(x[i])\n",
    "        y_test.append(y[i])\n",
    "\n",
    "result_train = primal(x_train, y_train)\n",
    "w = result_train[\"x\"]\n",
    "margin = 1/sqrt(w[0]*w[0] + w[1]*w[1] + w[2]*w[2])\n",
    "print(margin)"
   ]
  },
  {
   "cell_type": "markdown",
   "metadata": {},
   "source": [
    "### We have our weights now and can test our set with those weights"
   ]
  },
  {
   "cell_type": "code",
   "execution_count": 86,
   "metadata": {},
   "outputs": [
    {
     "name": "stdout",
     "output_type": "stream",
     "text": [
      "Test errors count: 0\n",
      "Margin is 0.11528498611578583\n"
     ]
    },
    {
     "data": {
      "image/png": "[encoded data removed]",
      "text/plain": [
       "<Figure size 432x288 with 1 Axes>"
      ]
     },
     "metadata": {
      "needs_background": "light"
     },
     "output_type": "display_data"
    }
   ],
   "source": [
    "errors = 0\n",
    "for i in range(len(x_test)):\n",
    "    if iris(w,x_test[i]) == y_test[i]:\n",
    "        errors += 1\n",
    "print(\"Test errors count:\",errors)\n",
    "print(\"Margin is\",margin)\n",
    "for i in range(len(x_test)):\n",
    "    if y_test[i] == 1:\n",
    "        plt.scatter([x_test[i][0]],[x_test[i][1]],marker = \"o\", color = \"red\")\n",
    "    else:\n",
    "        plt.scatter([x_test[i][0]],[x_test[i][1]],marker = \"x\", color = \"blue\")\n",
    "        \n",
    "################################\n",
    "x1 = 4.5\n",
    "x2 = 6\n",
    "\n",
    "y1 = (w[0]+w[1]*x1)/-w[2]\n",
    "y2 = (w[0]+w[1]*x2)/-w[2]\n",
    "plt.plot([x1,x2],[y1,y2])\n",
    "\n",
    "y1 = (w[0]+margin+w[1]*x1)/-w[2]\n",
    "y2 = (w[0]+margin+w[1]*x2)/-w[2]\n",
    "plt.plot([x1,x2],[y1,y2])\n",
    "\n",
    "y1 = (w[0]-margin+w[1]*x1)/-w[2]\n",
    "y2 = (w[0]-margin+w[1]*x2)/-w[2]\n",
    "plt.plot([x1,x2],[y1,y2])\n",
    "#################################\n",
    "\n",
    "f.close()"
   ]
  },
  {
   "cell_type": "markdown",
   "metadata": {},
   "source": [
    "### Hard-Margin SVM with Dual QP taken from LFD chapter 8"
   ]
  },
  {
   "cell_type": "code",
   "execution_count": 87,
   "metadata": {},
   "outputs": [],
   "source": [
    "def dual(X,Y):\n",
    "    #Process of initializing required vectors\n",
    "    ###########################################################\n",
    "    Q = []\n",
    "    A = []\n",
    "    X = np.array(X)\n",
    "    Y = np.array(Y)\n",
    "    for i in range(len(X)):\n",
    "        temp = []\n",
    "        for j in range(len(Y)):\n",
    "            y_product = Y[i]*Y[j]\n",
    "            x_product = np.dot(y_product, np.transpose(X[i]))\n",
    "            num = np.dot(x_product, X[j])\n",
    "            temp.append(num)\n",
    "        Q.append(temp)\n",
    "    Y_temp = np.transpose(Y)\n",
    "    Y_temp = np.dot(Y_temp,1.0)\n",
    "    \n",
    "    A.append(list(Y_temp))\n",
    "    A.append(list(np.dot(Y_temp,-1.0)))\n",
    "    \n",
    "    temp_arr = [0.0]*len(X)\n",
    "    for i in range(len(X)):\n",
    "        temp_arr[i] = 1.0\n",
    "        A.append(list(temp_arr))\n",
    "        temp_arr[i] = 0.0\n",
    "    minus_ones = [-1.0]*len(X)\n",
    "    zeroes = [0.0]*(len(X)+2)\n",
    "    \n",
    "    A = matrix(A)\n",
    "    A = A.trans()\n",
    "    Q = matrix(Q)\n",
    "    Q = Q.trans()\n",
    "    minus_ones = matrix(minus_ones)\n",
    "    zeroes = matrix(zeroes)\n",
    "    ##########################################################\n",
    "    sol = solvers.qp(Q,minus_ones,A,zeroes)\n",
    "    alpha = sol[\"x\"]\n",
    "    print(alpha)\n",
    "    \n",
    "    w = [0.0]*len(X[0])\n",
    "    w = np.array(w)\n",
    "    index = -1\n",
    "    \n",
    "    for i in range(len(alpha)):\n",
    "        if alpha[i] >= 0.0:\n",
    "            index = i\n",
    "        t = Y[i]*alpha[i]\n",
    "        t = np.dot(t, X[i] )\n",
    "        for j in range(len(w)):\n",
    "            w[j] += t[j]\n",
    "    b = 0\n",
    "    if index != -1:\n",
    "        b = y[index] - np.dot(np.transpose(w),x[index])\n",
    "    print(index)\n",
    "    return (w,b)"
   ]
  },
  {
   "cell_type": "markdown",
   "metadata": {},
   "source": [
    "### Function for checking the correctness of class"
   ]
  },
  {
   "cell_type": "code",
   "execution_count": 88,
   "metadata": {},
   "outputs": [],
   "source": [
    "def iris_2(x,w,b):\n",
    "    if w[0]*x[0] + w[1]*x[1] + b >= 0:\n",
    "        return 1\n",
    "    else:\n",
    "        return -1"
   ]
  },
  {
   "cell_type": "markdown",
   "metadata": {},
   "source": [
    "### Extracting data"
   ]
  },
  {
   "cell_type": "code",
   "execution_count": 89,
   "metadata": {},
   "outputs": [],
   "source": [
    "f = open(\"iris.txt\",\"r+\")\n",
    "data = f.readlines()\n",
    "x = []\n",
    "y = []\n",
    "x_train = []\n",
    "y_train = []\n",
    "x_test = []\n",
    "y_test = []\n",
    "\n",
    "for line in data:\n",
    "    L = line.split(\",\")\n",
    "    if L[4] == \"setosa\\n\":\n",
    "        x.append([float(L[0]),float(L[1])])\n",
    "        y.append(1)\n",
    "    elif L[4] == \"versicolor\\n\":\n",
    "        x.append([float(L[0]),float(L[1])])\n",
    "        y.append(-1)\n",
    "for i in range(100):\n",
    "    if i < 40 or i >= 50 and i < 90:\n",
    "        x_train.append(x[i])\n",
    "        y_train.append(y[i])\n",
    "    else:\n",
    "        x_test.append(x[i])\n",
    "        y_test.append(y[i])"
   ]
  },
  {
   "cell_type": "markdown",
   "metadata": {},
   "source": [
    "### Testing our data"
   ]
  },
  {
   "cell_type": "code",
   "execution_count": 90,
   "metadata": {},
   "outputs": [
    {
     "name": "stdout",
     "output_type": "stream",
     "text": [
      "     pcost       dcost       gap    pres   dres\n",
      " 0: -1.4773e+01  2.5269e+01  3e+02  2e+01  2e+00\n",
      " 1:  5.4536e+00 -1.4528e+00  4e+01  2e+00  2e-01\n",
      " 2:  1.9405e+00 -3.2927e-01  4e+00  1e-01  1e-02\n",
      " 3:  2.6639e-01 -1.3255e-02  3e-01  2e-03  2e-04\n",
      " 4:  9.0734e-03 -2.0473e-05  9e-03  3e-05  3e-06\n",
      " 5:  9.1009e-05 -2.0727e-09  9e-05  3e-07  3e-08\n",
      " 6:  9.1007e-07 -2.0727e-13  9e-07  3e-09  3e-10\n",
      " 7:  9.1007e-09 -2.0727e-17  9e-09  3e-11  4e-12\n",
      "Optimal solution found.\n",
      "[-1.14e-10]\n",
      "[-7.90e-11]\n",
      "[-1.23e-10]\n",
      "[-1.23e-10]\n",
      "[-1.05e-10]\n",
      "[-8.57e-11]\n",
      "[-1.20e-10]\n",
      "[-1.16e-10]\n",
      "[-1.18e-10]\n",
      "[-9.54e-11]\n",
      "[-1.05e-10]\n",
      "[-1.18e-10]\n",
      "[-9.09e-11]\n",
      "[-1.32e-10]\n",
      "[-9.13e-11]\n",
      "[-1.61e-10]\n",
      "[-8.57e-11]\n",
      "[-1.14e-10]\n",
      "[-9.52e-11]\n",
      "[-9.53e-11]\n",
      "[-8.19e-11]\n",
      "[-9.82e-11]\n",
      "[-2.24e-10]\n",
      "[-1.02e-10]\n",
      "[-1.18e-10]\n",
      "[-6.70e-11]\n",
      "[-1.16e-10]\n",
      "[-1.10e-10]\n",
      "[-1.03e-10]\n",
      "[-1.23e-10]\n",
      "[-1.06e-10]\n",
      "[-8.19e-11]\n",
      "[-3.28e-10]\n",
      "[-1.11e-10]\n",
      "[-9.54e-11]\n",
      "[-9.90e-11]\n",
      "[-8.43e-11]\n",
      "[-9.54e-11]\n",
      "[-1.28e-10]\n",
      "[-1.11e-10]\n",
      "[-8.83e-11]\n",
      "[-1.00e-10]\n",
      "[-7.78e-11]\n",
      "[-6.76e-11]\n",
      "[-5.24e-11]\n",
      "[-8.31e-11]\n",
      "[-7.52e-11]\n",
      "[-4.90e-11]\n",
      "[-6.49e-11]\n",
      "[-4.26e-11]\n",
      "[-6.22e-11]\n",
      "[-7.75e-11]\n",
      "[-1.36e-10]\n",
      "[-1.03e-10]\n",
      "[-5.87e-11]\n",
      "[-9.92e-11]\n",
      "[-4.51e-11]\n",
      "[-9.71e-11]\n",
      "[-8.75e-10]\n",
      "[-9.04e-11]\n",
      "[-4.81e-11]\n",
      "[-9.97e-11]\n",
      "[-4.92e-11]\n",
      "[-9.97e-11]\n",
      "[-9.15e-11]\n",
      "[-8.98e-11]\n",
      "[-1.50e-10]\n",
      "[-7.71e-11]\n",
      "[-9.85e-11]\n",
      "[-9.45e-11]\n",
      "[-8.49e-11]\n",
      "[-8.49e-11]\n",
      "[-9.71e-11]\n",
      "[-9.33e-11]\n",
      "[-2.73e-11]\n",
      "[-3.25e-11]\n",
      "[-9.92e-11]\n",
      "[-6.52e-10]\n",
      "[-4.51e-11]\n",
      "[-8.99e-11]\n",
      "\n",
      "-1\n",
      "[5.059313981797132e-09, -3.9751066538225605e-09] 0\n",
      "10\n"
     ]
    }
   ],
   "source": [
    "w = dual(x_train, y_train)\n",
    "error = 0\n",
    "print(list(w[0]),w[1])\n",
    "for i in range(len(x_test)):\n",
    "    if iris_2(x_test[i],list(w[0]),w[1]) == y_test[i]:\n",
    "        error += 1\n",
    "print(error)\n",
    "f.close()"
   ]
  }
 ],
 "metadata": {
  "kernelspec": {
   "display_name": "Python 3",
   "language": "python",
   "name": "python3"
  },
  "language_info": {
   "codemirror_mode": {
    "name": "ipython",
    "version": 3
   },
   "file_extension": ".py",
   "mimetype": "text/x-python",
   "name": "python",
   "nbconvert_exporter": "python",
   "pygments_lexer": "ipython3",
   "version": "3.7.4"
  }
 },
 "nbformat": 4,
 "nbformat_minor": 2
}
