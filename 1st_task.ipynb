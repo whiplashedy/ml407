{
 "cells": [
  {
   "cell_type": "markdown",
   "metadata": {},
   "source": [
    "# 1 Linear Regression -20%"
   ]
  },
  {
   "cell_type": "code",
   "execution_count": 8,
   "metadata": {},
   "outputs": [],
   "source": [
    "import numpy as np\n",
    "import random as rand\n",
    "import matplotlib.pyplot as plt\n",
    "plt.rcParams[\"figure.figsize\"] = (20,12)\n"
   ]
  },
  {
   "cell_type": "code",
   "execution_count": 9,
   "metadata": {},
   "outputs": [],
   "source": [
    "### Linear regression algorithm based on OLS using matrices.\n",
    "### Algorithm taken from Learning from Data book chapter 3.2"
   ]
  },
  {
   "cell_type": "code",
   "execution_count": 10,
   "metadata": {},
   "outputs": [],
   "source": [
    "def lin(x,y):\n",
    "    y = np.array(y)\n",
    "    X = []\n",
    "    for el in x:\n",
    "        temp = [1]\n",
    "        for j in range(len(el)):\n",
    "            temp.append(el[j])\n",
    "        X.append(temp)\n",
    "    A = np.array(X)\n",
    "    X_result = np.linalg.pinv(A)\n",
    "    return np.dot(X_result,y)\n",
    "\n"
   ]
  },
  {
   "cell_type": "markdown",
   "metadata": {},
   "source": [
    "### Function for plotting crosses and zeroes"
   ]
  },
  {
   "cell_type": "code",
   "execution_count": 11,
   "metadata": {},
   "outputs": [],
   "source": [
    "def plot(x,y):\n",
    "    for i in range(len(x)):\n",
    "        if y[i] == 1:\n",
    "            plt.scatter([x[i][0]],[x[i][1]],marker = \"o\", color = \"red\")\n",
    "        else:\n",
    "            plt.scatter([x[i][0]],[x[i][1]],marker = \"x\", color = \"blue\")"
   ]
  },
  {
   "cell_type": "code",
   "execution_count": 12,
   "metadata": {},
   "outputs": [],
   "source": [
    "### My error function for counting missclassified points from both sides"
   ]
  },
  {
   "cell_type": "code",
   "execution_count": 13,
   "metadata": {},
   "outputs": [],
   "source": [
    "def error(x,y,w):\n",
    "    if w[0] == 0 and w[1] == 0:\n",
    "        return len(x)*10\n",
    "    pos_top = 0\n",
    "    neg_top = 0\n",
    "    pos_down = 0\n",
    "    neg_down = 0\n",
    "    for i in range(len(x)):\n",
    "        test = w[0] + w[1]*x[i][0] + w[2]*x[i][1]\n",
    "        if test >= 0:\n",
    "            if y[i] == 1:\n",
    "                pos_down += 1\n",
    "            else:\n",
    "                neg_down += 1\n",
    "        else:\n",
    "            if y[i] == 1:\n",
    "                pos_top += 1\n",
    "            else:\n",
    "                neg_top += 1\n",
    "    proportion = max(min(pos_top,neg_top),min(pos_down,neg_down))/len(x)\n",
    "    return proportion * 100"
   ]
  },
  {
   "cell_type": "markdown",
   "metadata": {},
   "source": [
    "### Simple Perceptron algorithm"
   ]
  },
  {
   "cell_type": "code",
   "execution_count": 21,
   "metadata": {},
   "outputs": [],
   "source": [
    "def pla(x,y,a):\n",
    "    w = list(a)\n",
    "    for a in range(15):\n",
    "        for i in range(len(x)):\n",
    "            test = w[0] + w[1]*x[i][0] + w[2]*x[i][1]\n",
    "            if test * y[i] <= 0:\n",
    "                w[0] = w[0] + y[i]\n",
    "                w[1] = w[1] + y[i] * x[i][0]\n",
    "                w[2] = w[2] + y[i] * x[i][1]\n",
    "    return w"
   ]
  },
  {
   "cell_type": "code",
   "execution_count": 15,
   "metadata": {},
   "outputs": [],
   "source": [
    "### Simple Pocket algorithm"
   ]
  },
  {
   "cell_type": "code",
   "execution_count": 16,
   "metadata": {},
   "outputs": [],
   "source": [
    "def pocket_algorithm(x,y):\n",
    "    w = [0,0,1]\n",
    "    for i in range(1000):\n",
    "        w_new = pla(x,y,w)\n",
    "        if error(x,y,w) >= error(x,y,w_new):\n",
    "            w = w_new\n",
    "    return w\n",
    "\n"
   ]
  },
  {
   "cell_type": "markdown",
   "metadata": {},
   "source": [
    "### Function for generating random data given its size and slope of the line"
   ]
  },
  {
   "cell_type": "code",
   "execution_count": 17,
   "metadata": {},
   "outputs": [],
   "source": [
    "def data_generator(size,a):\n",
    "    x = []\n",
    "    y = []\n",
    "    \n",
    "    for i in range(size):\n",
    "        r = [rand.randint(-size,size),rand.randint(-size,size)]\n",
    "        if r[1]<=a*r[0]:\n",
    "            y.append(1)\n",
    "        else:\n",
    "            y.append(-1)\n",
    "        x.append(r)\n",
    "    for i in range(size):\n",
    "        if y[i] == 1:\n",
    "            if rand.randint(0,10) == 5:\n",
    "                y[i] = -1\n",
    "        else:\n",
    "            if rand.randint(0,10) == 5:\n",
    "                y[i] = 1     \n",
    "    return (x,y)"
   ]
  },
  {
   "cell_type": "markdown",
   "metadata": {},
   "source": [
    "### Function which plots the line w0 + w1*x + w2*y = 0"
   ]
  },
  {
   "cell_type": "code",
   "execution_count": 18,
   "metadata": {},
   "outputs": [],
   "source": [
    "def plot_w(w,size):\n",
    "    x1 = -size\n",
    "    x2 = size\n",
    "    y1 = (-w[0]-w[1]*x1)/w[2]\n",
    "    y2 = (-w[0]-w[1]*x2)/w[2]\n",
    "    plt.plot([x1,x2],[y1,y2])"
   ]
  },
  {
   "cell_type": "markdown",
   "metadata": {},
   "source": [
    "### Our main function where we generate data and call above functions"
   ]
  },
  {
   "cell_type": "code",
   "execution_count": 25,
   "metadata": {},
   "outputs": [],
   "source": [
    "def main():\n",
    "    \n",
    "    a = rand.randint(-20,20)\n",
    "    a = a / 10\n",
    "    \n",
    "    #Creating training set of size 100\n",
    "    training_data = data_generator(100,a)\n",
    "    x_training = training_data[0]\n",
    "    y_training = training_data[1]\n",
    "    \n",
    "    w_pocket = pocket_algorithm(x_training,y_training)\n",
    "    w_lin = lin(x_training, y_training)\n",
    "\n",
    "    #Creating testing set of size 1000\n",
    "    test_data = data_generator(1000,a)\n",
    "    x_test = test_data[0]\n",
    "    y_test = test_data[1]"
   ]
  },
  {
   "cell_type": "markdown",
   "metadata": {},
   "source": [
    "### a is a slope of our line which creates our data set"
   ]
  },
  {
   "cell_type": "code",
   "execution_count": 26,
   "metadata": {},
   "outputs": [],
   "source": []
  },
  {
   "cell_type": "markdown",
   "metadata": {},
   "source": [
    "### Two errors of different algorithms ran on same data set:"
   ]
  },
  {
   "cell_type": "code",
   "execution_count": 28,
   "metadata": {},
   "outputs": [
    {
     "name": "stdout",
     "output_type": "stream",
     "text": [
      "Test error for pocket algorithm is: 21.5 %\n",
      "Test error for lin. reg. algorithm is: 7.8 %\n"
     ]
    }
   ],
   "source": [
    "    print(\"Test error for pocket algorithm is:\",error(x_test,y_test,w_pocket),\"%\")\n",
    "    print(\"Test error for lin. reg. algorithm is:\",error(x_test,y_test,w_lin),\"%\")"
   ]
  },
  {
   "cell_type": "markdown",
   "metadata": {},
   "source": [
    "### Now creating 2 lists to save there different 100 iterations of linear algorithms"
   ]
  },
  {
   "cell_type": "code",
   "execution_count": 34,
   "metadata": {},
   "outputs": [
    {
     "data": {
      "image/png": "[encoded data removed]",
      "text/plain": [
       "<Figure size 1440x864 with 1 Axes>"
      ]
     },
     "metadata": {
      "needs_background": "light"
     },
     "output_type": "display_data"
    }
   ],
   "source": [
    "    E_test_pocket = []\n",
    "    E_test_linreg = []\n",
    "\n",
    "    for i in range(100):\n",
    "        #Generating random slope every iteration\n",
    "        a = rand.randint(-20,20)\n",
    "        a = a / 10\n",
    "\n",
    "        training_data = data_generator(100,a)\n",
    "        x_training = training_data[0]\n",
    "        y_training = training_data[1]\n",
    "\n",
    "        w_pocket = pocket_algorithm(x_training,y_training)\n",
    "        w_lin = lin(x_training, y_training)\n",
    "\n",
    "        test_data = data_generator(1000,a)\n",
    "        x_test = test_data[0]\n",
    "        y_test = test_data[1]\n",
    "        #saving errors of 2 algorithms \n",
    "        E_test_pocket.append(error(x_test,y_test,w_pocket))\n",
    "        E_test_linreg.append(error(x_test,y_test,w_lin))\n",
    "    plt.scatter(E_test_pocket, E_test_linreg)\n",
    "    plt.xlabel('E test Pocket Algorithm')\n",
    "    plt.ylabel('E test Linear Regression Algorithm')\n",
    "main()"
   ]
  },
  {
   "cell_type": "markdown",
   "metadata": {},
   "source": [
    "### Those algorithms have approximately same errors with linear regression having little less. However if we look at the graph there are some cases where pocket algorithm's error exceeds 10-15% percent bar, whereas the error of lin. reg. is solid and doesn't randomly fluctuate."
   ]
  }
 ],
 "metadata": {
  "kernelspec": {
   "display_name": "Python 3",
   "language": "python",
   "name": "python3"
  },
  "language_info": {
   "codemirror_mode": {
    "name": "ipython",
    "version": 2
   },
   "file_extension": ".py",
   "mimetype": "text/x-python",
   "name": "python",
   "nbconvert_exporter": "python",
   "pygments_lexer": "ipython2",
   "version": "2.7.17"
  }
 },
 "nbformat": 4,
 "nbformat_minor": 2
}
