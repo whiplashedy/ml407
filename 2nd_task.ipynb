{
 "cells": [
  {
   "cell_type": "markdown",
   "metadata": {},
   "source": [
    "**EXERCISE 2** for this exercise we chose binary classification so we have only 0's and 1's"
   ]
  },
  {
   "cell_type": "code",
   "execution_count": 798,
   "metadata": {},
   "outputs": [],
   "source": [
    "import seaborn as sns\n",
    "from sklearn import datasets\n",
    "from sklearn.model_selection import train_test_split\n",
    "import numpy as np\n",
    "import matplotlib.pyplot as plt\n",
    "from numpy import random\n",
    "\n",
    "iris = datasets.load_iris()\n",
    "X = iris.data[:-50,:] #100 size\n",
    "Y = iris.target[:-50] #100 only 0's and 1's\n",
    "#using model selection, we can fastly split dataset for training and testing ones 80%train 20% test\n",
    "X_train,X_test,Y_train,Y_test=train_test_split(X,Y,test_size=0.2,random_state = None)\n",
    "X_train = np.insert(X_train, 0, 1, axis=1)"
   ]
  },
  {
   "cell_type": "code",
   "execution_count": 799,
   "metadata": {},
   "outputs": [],
   "source": [
    "def sigmoid(scores):\n",
    "    return 1 / (1 + np.exp(-scores))\n",
    "\n",
    "def predict(X, w):\n",
    "    a =np.matmul(X, w)\n",
    "    return np.round(sigmoid(a)) #since our output consists only 0's and 1's, we need to round them instead of finding sign\n",
    "\n",
    "def accuracy(y_pred, y_test, x_size): #function to find accuracy of model\n",
    "    success = 0\n",
    "    for i in range(0,len(y_pred)):\n",
    "        if y_pred[i] == y_test[i]:\n",
    "            success+=1\n",
    "    return success*100/x_size"
   ]
  },
  {
   "cell_type": "code",
   "execution_count": 800,
   "metadata": {},
   "outputs": [],
   "source": [
    "def stochastic_gradient_descent(x, y, learning_rate, T): #function to minimize error with updated weight\n",
    "    Error = []\n",
    "    w = np.zeros(shape = (T, x.shape[1]))\n",
    "    for t in range(1, T):\n",
    "        index = np.random.randint(1, x.shape[0])\n",
    "        gradient = (2*y[index]*x[index])/(1+np.exp(y[index]*(2*np.transpose(w[t-1])*x[index])))\n",
    "        error = np.log(1+np.exp(y[index]*(2*np.transpose(w[t-1])*x[index])))\n",
    "        w[t] = w[t-1] - learning_rate* gradient\n",
    "        Error.append(error[3])\n",
    "    return Error"
   ]
  },
  {
   "cell_type": "code",
   "execution_count": 801,
   "metadata": {},
   "outputs": [],
   "source": [
    "err1 = stochastic_gradient_descent(X_train, Y_train, 0.001, 2000) #error for E in\n",
    "err2 = stochastic_gradient_descent(X_test, Y_test, 0.001, 2000) #error for E out"
   ]
  },
  {
   "cell_type": "code",
   "execution_count": 802,
   "metadata": {},
   "outputs": [],
   "source": [
    "e_in = []\n",
    "e_out=[]\n",
    "bug = 0.6931471805599453 #We noticed the point that repeats all over the error and affects graph, so we decided to ignore it\n",
    "for i in range(0,1999):\n",
    "    if err1[i]!=bug:\n",
    "        e_in.append(err1[i])\n",
    "    i+=500 #iterations to decrease amount of data ; not affecting graph\n",
    "for i in range(0,1999):\n",
    "    if err2[i]!=bug:\n",
    "        e_out.append(err2[i])\n",
    "    i+=500"
   ]
  },
  {
   "cell_type": "code",
   "execution_count": 803,
   "metadata": {},
   "outputs": [
    {
     "data": {
      "image/png": "[encoded data removed]",
      "text/plain": [
       "<Figure size 432x288 with 1 Axes>"
      ]
     },
     "metadata": {
      "needs_background": "light"
     },
     "output_type": "display_data"
    }
   ],
   "source": [
    "t = np.arange(1, 2000);\n",
    "plt.plot(e_in, 'b', label = 'train')\n",
    "plt.show()"
   ]
  },
  {
   "cell_type": "code",
   "execution_count": 813,
   "metadata": {},
   "outputs": [
    {
     "data": {
      "image/png": "[encoded data removed]",
      "text/plain": [
       "<Figure size 432x288 with 1 Axes>"
      ]
     },
     "metadata": {
      "needs_background": "light"
     },
     "output_type": "display_data"
    }
   ],
   "source": [
    "plt.plot(e_out, 'r', label = 'test')\n",
    "plt.show()"
   ]
  },
  {
   "cell_type": "markdown",
   "metadata": {},
   "source": [
    "**Logistic Regression Ein, Eout\n",
    "\n",
    "Conclusion:\n",
    "\n",
    "   By repeating the experiment several times, we noticed that Error for training data decreases faster that Error for testing data, that is because we think the size of training data is bigger that testing one.\n",
    "Possible limitations: \n",
    "   1.For very large data it has higher error at the beginning \n",
    "   2."
   ]
  },
  {
   "cell_type": "code",
   "execution_count": 815,
   "metadata": {},
   "outputs": [
    {
     "name": "stdout",
     "output_type": "stream",
     "text": [
      "CHECKING...\n",
      "Y_PRED result:\n",
      "[0. 0. 0. 1. 1. 1. 0. 1. 0. 1. 1. 0. 0. 0. 0. 0. 1. 1. 0. 0. 1. 1. 1. 1.\n",
      " 1. 0. 1. 1. 0. 1. 0. 0. 1. 0. 0. 0. 1. 1. 1. 0. 0. 0. 0. 1. 1. 1. 0. 1.\n",
      " 1. 1. 1. 1. 1. 0. 0. 1. 1. 0. 0. 0. 0. 1. 1. 1. 0. 0. 1. 0. 0. 1. 0. 0.\n",
      " 0. 1. 0. 1. 1. 0. 0. 0.]\n",
      "Y result: \n",
      "[0 0 0 1 1 1 0 1 0 1 1 0 0 0 0 0 1 1 0 0 1 1 1 1 1 0 1 1 0 1 0 0 1 0 0 0 1\n",
      " 1 1 0 0 0 0 1 1 1 0 1 1 1 1 1 1 0 0 1 1 0 0 0 0 1 1 1 0 0 1 0 0 1 0 0 0 1\n",
      " 0 1 1 0 0 0]\n",
      "('Accuracy:', 100, '%')\n"
     ]
    }
   ],
   "source": [
    "def logistic_regression_algorithm(X, y, learning_rate, T):\n",
    "    w = np.zeros(shape = (X.shape[1],1))\n",
    "    m = len(y)\n",
    "    for i in range(T):\n",
    "        gradient = np.matmul(X.T,sigmoid(np.matmul(X,w)) - y)\n",
    "        w = w - (learning_rate/m) * gradient \n",
    "    return w\n",
    "w = logistic_regression_algorithm(X_train, Y_train, 0.001, 2000)\n",
    "y_pred = predict(X_train, w)\n",
    "print(\"CHECKING...\")\n",
    "print(\"Y_PRED result:\")\n",
    "print(y_pred[0])\n",
    "print(\"Y result: \")\n",
    "print(Y_train)\n",
    "print(\"Accuracy:\" ,accuracy(y_pred[0],Y_train, X_train.shape[0]),\"%\")"
   ]
  },
  {
   "cell_type": "markdown",
   "metadata": {},
   "source": [
    "Here we are using sigmoid function and updating weight. Since we have binary classification problem our predict function does: if np.dot(X_train, w) >0.5 it rounds to 1 else to 0. Then, we got multiple resulting arrays, so we can choose any of them. So, checking y_pred[0] with Y_train gives us 100% accuracy!"
   ]
  }
 ],
 "metadata": {
  "kernelspec": {
   "display_name": "Python 3",
   "language": "python",
   "name": "python3"
  },
  "language_info": {
   "codemirror_mode": {
    "name": "ipython",
    "version": 2
   },
   "file_extension": ".py",
   "mimetype": "text/x-python",
   "name": "python",
   "nbconvert_exporter": "python",
   "pygments_lexer": "ipython2",
   "version": "2.7.17"
  }
 },
 "nbformat": 4,
 "nbformat_minor": 4
}
